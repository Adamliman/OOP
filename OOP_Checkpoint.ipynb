{
 "cells": [
  {
   "cell_type": "code",
   "execution_count": null,
   "id": "50cbd073",
   "metadata": {},
   "outputs": [],
   "source": [
    "class Compte :\n",
    "    def __init__(self,account_number : str,solde_du_compte :float ,account_holder:str):\n",
    "        self.account_number= account_number\n",
    "        self.solde_du_compte= solde_du_compte\n",
    "        self.account_holder= account_holder \n",
    "    def deposit(self,montant:float):\n",
    "        self.solde_du_compte += montant\n",
    "    def retirer(self,montant:float):\n",
    "        if montant <= self.solde_du_compte:\n",
    "            self.solde_du_compte -= montant\n",
    "        else:\n",
    "            print(\"ta pas d argnet\")\n",
    "    def check_balance(self):\n",
    "        print(f\"vous avez : {self.solde_du_compte} DZD\")\n",
    "\n",
    "\n",
    "my_account= Compte(\"1234567890\",9797979,\"java\")"
   ]
  },
  {
   "cell_type": "code",
   "execution_count": 177,
   "id": "97018f9f",
   "metadata": {},
   "outputs": [
    {
     "name": "stdout",
     "output_type": "stream",
     "text": [
      "vous avez : 9799979 DZD\n"
     ]
    }
   ],
   "source": [
    "my_account.deposit(2000)\n",
    "my_account.check_balance()"
   ]
  },
  {
   "cell_type": "code",
   "execution_count": 178,
   "id": "06698cdd",
   "metadata": {},
   "outputs": [
    {
     "name": "stdout",
     "output_type": "stream",
     "text": [
      "vous avez : 9796979 DZD\n"
     ]
    }
   ],
   "source": [
    "my_account.retirer(3000)\n",
    "my_account.check_balance()"
   ]
  },
  {
   "cell_type": "code",
   "execution_count": 179,
   "id": "eaae368a",
   "metadata": {},
   "outputs": [
    {
     "name": "stdout",
     "output_type": "stream",
     "text": [
      "vous avez : 123456 DZD\n"
     ]
    }
   ],
   "source": [
    "er=Compte(account_holder=\"adam\",account_number=\"45556\",solde_du_compte=123456)\n",
    "er.check_balance()\n",
    "\n"
   ]
  },
  {
   "cell_type": "code",
   "execution_count": 158,
   "id": "fb69070b",
   "metadata": {},
   "outputs": [
    {
     "name": "stdout",
     "output_type": "stream",
     "text": [
      "vous avez : 858500.0 DZD\n"
     ]
    }
   ],
   "source": [
    "p1=Compte(\"55434567\",858500.00,\"hmida\")\n",
    "\n",
    "p1.check_balance()"
   ]
  },
  {
   "cell_type": "code",
   "execution_count": 148,
   "id": "077e9761",
   "metadata": {},
   "outputs": [
    {
     "name": "stdout",
     "output_type": "stream",
     "text": [
      "ta pas d argnet\n"
     ]
    },
    {
     "data": {
      "text/plain": [
       "358500.0"
      ]
     },
     "execution_count": 148,
     "metadata": {},
     "output_type": "execute_result"
    }
   ],
   "source": [
    "# p1.deposit(1000000)\n",
    "# p1.solde_du_compte\n",
    "\n",
    "p1.retirer(500000)\n",
    "p1.solde_du_compte"
   ]
  },
  {
   "cell_type": "code",
   "execution_count": 3,
   "id": "6946da4e",
   "metadata": {},
   "outputs": [
    {
     "name": "stdout",
     "output_type": "stream",
     "text": [
      "[4, 16, 36]\n"
     ]
    }
   ],
   "source": [
    "def carre_pairs(liste):\n",
    "    return [x**2 for x in liste if x % 2 == 0]\n",
    "\n",
    "print(carre_pairs([1, 2, 3, 4 ,5,6]))"
   ]
  },
  {
   "cell_type": "code",
   "execution_count": 12,
   "id": "aacfd0ff",
   "metadata": {},
   "outputs": [],
   "source": [
    "class Voiture:\n",
    "    def __init__(self, marque, vitesse):\n",
    "        self.marque = marque\n",
    "        self.vitesse = vitesse\n",
    "    def klaxonner(self):\n",
    "         print(\"Tuut Tuut !\")      \n",
    "         ma_voiture = Voiture(\"Toyota\", 180)   \n",
    "         print(ma_voiture.marque)\n",
    "         print(ma_voiture.vitesse)\n",
    "         ma_voiture.klaxonner()\n",
    "         print(\"Ma voiture est une\", ma_voiture.marque)\n",
    "         print(\"Sa vitesse est de\", ma_voiture.vitesse, \"km/h\")\n"
   ]
  },
  {
   "cell_type": "code",
   "execution_count": 13,
   "id": "ad5b0ef0",
   "metadata": {},
   "outputs": [
    {
     "name": "stdout",
     "output_type": "stream",
     "text": [
      "Rex dit : Woof!\n",
      "Luna dit : Miaou!\n"
     ]
    }
   ],
   "source": [
    "class Animal:\n",
    "    def __init__(self, nom):\n",
    "        self.nom = nom\n",
    "\n",
    "    def parler(self):\n",
    "        print(f\"{self.nom} fait un bruit.\")\n",
    "\n",
    "# Classe dérivée\n",
    "class Chien(Animal):\n",
    "    def parlerr(self):\n",
    "        print(f\"{self.nom} dit : Woof!\")\n",
    "\n",
    "class Chat(Animal):\n",
    "    def parler(self):\n",
    "        print(f\"{self.nom} dit : Miaou!\")\n",
    "\n",
    "# Utilisation des objets\n",
    "mon_chien = Chien(\"Rex\")\n",
    "mon_chat = Chat(\"Luna\")\n",
    "\n",
    "mon_chien.parlerr()  # Rex dit : Woof!\n",
    "mon_chat.parler() "
   ]
  },
  {
   "cell_type": "code",
   "execution_count": 14,
   "id": "57a4d1e4",
   "metadata": {},
   "outputs": [
    {
     "name": "stdout",
     "output_type": "stream",
     "text": [
      "0 est pair\n",
      "1 est impair\n",
      "2 est pair\n",
      "3 est impair\n",
      "4 est pair\n"
     ]
    }
   ],
   "source": [
    "for i in range(5):\n",
    "    if i % 2 == 0:\n",
    "        print(f\"{i} est pair\")\n",
    "    else:\n",
    "        print(f\"{i} est impair\")"
   ]
  },
  {
   "cell_type": "code",
   "execution_count": null,
   "id": "5db827a0",
   "metadata": {},
   "outputs": [],
   "source": [
    "def saluer(nom):\n",
    "    return f\"Bonjour, {nom} !\"\n",
    "\n",
    "# Utilisation\n",
    "message = saluer(\"Amine\")\n",
    "print(message)"
   ]
  }
 ],
 "metadata": {
  "kernelspec": {
   "display_name": "Python 3",
   "language": "python",
   "name": "python3"
  },
  "language_info": {
   "codemirror_mode": {
    "name": "ipython",
    "version": 3
   },
   "file_extension": ".py",
   "mimetype": "text/x-python",
   "name": "python",
   "nbconvert_exporter": "python",
   "pygments_lexer": "ipython3",
   "version": "3.11.9"
  }
 },
 "nbformat": 4,
 "nbformat_minor": 5
}
